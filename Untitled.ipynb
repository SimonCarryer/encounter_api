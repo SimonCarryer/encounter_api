{
 "cells": [
  {
   "cell_type": "code",
   "execution_count": 1,
   "metadata": {},
   "outputs": [],
   "source": [
    "from places.hexmap import HexMap\n",
    "import matplotlib.pyplot as plt\n",
    "from collections import defaultdict"
   ]
  },
  {
   "cell_type": "code",
   "execution_count": 65,
   "metadata": {},
   "outputs": [],
   "source": [
    "import sys\n",
    "from scipy.spatial import Voronoi, Delaunay\n",
    "import numpy as np\n",
    "\n",
    "eps = sys.float_info.epsilon\n",
    "\n",
    "\n",
    "class RegionMapBuilder:\n",
    "    def __init__(self, relax=0, centralise_points=False):\n",
    "        self.relax = relax\n",
    "        self.centralise_points = centralise_points\n",
    "        # [x_min, x_max, y_min, y_max]\n",
    "        self.bounding_box = np.array([0.01, 1., 0.01, 1.])\n",
    "\n",
    "    def in_box(self, points):\n",
    "        return np.logical_and(np.logical_and(self.bounding_box[0] <= points[:, 0],\n",
    "                                             points[:, 0] <= self.bounding_box[1]),\n",
    "                              np.logical_and(self.bounding_box[2] <= points[:, 1],\n",
    "                                             points[:, 1] <= self.bounding_box[3]))\n",
    "\n",
    "    def reflect_points(self, points):\n",
    "        i = self.in_box(points)\n",
    "        points_center = points[i, :]\n",
    "        points_left = np.copy(points_center)\n",
    "        points_left[:, 0] = self.bounding_box[0] - \\\n",
    "            (points_left[:, 0] - self.bounding_box[0])\n",
    "        points_right = np.copy(points_center)\n",
    "        points_right[:, 0] = self.bounding_box[1] + \\\n",
    "            (self.bounding_box[1] - points_right[:, 0])\n",
    "        points_down = np.copy(points_center)\n",
    "        points_down[:, 1] = self.bounding_box[2] - \\\n",
    "            (points_down[:, 1] - self.bounding_box[2])\n",
    "        points_up = np.copy(points_center)\n",
    "        points_up[:, 1] = self.bounding_box[3] + \\\n",
    "            (self.bounding_box[3] - points_up[:, 1])\n",
    "        points = np.append(points_center,\n",
    "                           np.append(np.append(points_left,\n",
    "                                               points_right,\n",
    "                                               axis=0),\n",
    "                                     np.append(points_down,\n",
    "                                               points_up,\n",
    "                                               axis=0),\n",
    "                                     axis=0),\n",
    "                           axis=0)\n",
    "        return points, points_center\n",
    "\n",
    "    def voronoi(self, points, points_center):\n",
    "        vor = Voronoi(points)\n",
    "        vor.filtered_points = points_center\n",
    "        vor.filtered_regions = [vor.regions[vor.point_region[i]]\n",
    "                                for i in range(len(points_center))]\n",
    "        return vor\n",
    "\n",
    "    def triangles(self, points, points_center):\n",
    "        tri = Delaunay(points)\n",
    "        filtered_points = list(range(len(points_center)))\n",
    "        return [[s if s in filtered_points else -1 for s in simp.tolist()] for simp in tri.simplices if any([point in filtered_points for point in simp])]\n",
    "\n",
    "    def generate_points(self, n_points):\n",
    "        if self.centralise_points:\n",
    "            points = np.random.normal(loc=0.5, scale=0.20, size=[n_points, 2])\n",
    "        else:\n",
    "            points = np.random.rand(n_points, 2)\n",
    "        for _ in range(self.relax):\n",
    "            points = self.relax_points(points)\n",
    "        return points\n",
    "\n",
    "    def centroid_region(self, vertices):\n",
    "        # Polygon's signed area\n",
    "        A = 0\n",
    "        # Centroid's x\n",
    "        C_x = 0\n",
    "        # Centroid's y\n",
    "        C_y = 0\n",
    "        for i in range(0, len(vertices) - 1):\n",
    "            s = (vertices[i, 0] * vertices[i + 1, 1] -\n",
    "                 vertices[i + 1, 0] * vertices[i, 1])\n",
    "            A = A + s\n",
    "            C_x = C_x + (vertices[i, 0] + vertices[i + 1, 0]) * s\n",
    "            C_y = C_y + (vertices[i, 1] + vertices[i + 1, 1]) * s\n",
    "        A = 0.5 * A\n",
    "        C_x = (1.0 / (6.0 * A)) * C_x\n",
    "        C_y = (1.0 / (6.0 * A)) * C_y\n",
    "        return np.array([C_x, C_y])\n",
    "\n",
    "    def relax_points(self, points):\n",
    "        reflected_points, points_center = self.reflect_points(points)\n",
    "        vor = self.voronoi(reflected_points, points_center)\n",
    "        boundaries = [vor.vertices[region + [region[0]], :]\n",
    "                      for region in vor.filtered_regions]\n",
    "        return np.array([self.centroid_region(boundary) for boundary in boundaries])\n",
    "\n",
    "    def build(self, n_points):\n",
    "        points = self.generate_points(n_points)\n",
    "        reflected_points, points_center = self.reflect_points(points)\n",
    "        vor = self.voronoi(reflected_points, points_center)\n",
    "        tri = self.triangles(reflected_points, points_center)\n",
    "        map_regions = []\n",
    "        all_boundaries = []\n",
    "        for idx, region in enumerate(vor.filtered_regions):\n",
    "            boundaries = vor.vertices[region + [region[0]], :]\n",
    "            all_boundaries += [\n",
    "                boundary for boundary in boundaries.tolist() if boundary not in all_boundaries]\n",
    "            centroid = self.centroid_region(boundaries)\n",
    "            neighbours = set(\n",
    "                [p+1 for simp in tri for p in simp if idx in simp if p != idx and p != -1])\n",
    "            borders_map_edge = any([-1 in simp for simp in tri if idx in simp])\n",
    "            map_regions.append({\"region_id\": idx+1,\n",
    "                                \"centroid\": centroid.tolist(),\n",
    "                                \"boundaries\": boundaries.tolist(),\n",
    "                                \"neighbours\": list(neighbours),\n",
    "                                \"borders_map_edge\": borders_map_edge\n",
    "                                })\n",
    "        ridge_vertices = [vor.vertices[ridge] for ridge in vor.ridge_vertices]\n",
    "        filtered_ridges = [vertex.tolist() for vertex in ridge_vertices if vertex[0].tolist() in all_boundaries and vertex[1].tolist() in all_boundaries]\n",
    "        return {\"regions\": map_regions, \"ridges\": filtered_ridges}"
   ]
  },
  {
   "cell_type": "code",
   "execution_count": 66,
   "metadata": {},
   "outputs": [],
   "source": [
    "map_regions = RegionMapBuilder().build(10)"
   ]
  },
  {
   "cell_type": "code",
   "execution_count": 61,
   "metadata": {},
   "outputs": [
    {
     "data": {
      "text/plain": [
       "[]"
      ]
     },
     "execution_count": 61,
     "metadata": {},
     "output_type": "execute_result"
    }
   ],
   "source": [
    "map_regions[\"vertices\"]"
   ]
  },
  {
   "cell_type": "code",
   "execution_count": 62,
   "metadata": {},
   "outputs": [
    {
     "data": {
      "text/plain": [
       "[[0.792122694561542, 0.3637935548884989],\n",
       " [0.6994110976528121, 0.23624829305195652],\n",
       " [0.181643007601632, 0.041948825455226296],\n",
       " [0.3947062552283708, 0.426607938702408],\n",
       " [0.6962409225629599, 0.4216865850438895],\n",
       " [0.792122694561542, 0.3637935548884989],\n",
       " [0.15088837358853088, 0.010000000000000009],\n",
       " [0.652484862894033, 0.010000000000000002],\n",
       " [0.14721289552920197, 0.7719114769149262],\n",
       " [0.5056551659306092, 0.7757353436488847],\n",
       " [0.6026586620766599, 0.6743682593164616],\n",
       " [0.010000000000000064, 0.8400493818769018],\n",
       " [0.010000000000000064, 0.9999999999999998],\n",
       " [0.6774675949500043, 1.0],\n",
       " [0.009999999999999981, 0.010000000000000009],\n",
       " [0.766264287576535, 0.7791742570436536],\n",
       " [0.8562221533091016, 0.670778481845098],\n",
       " [0.8611134163678756, 0.36775781951105097],\n",
       " [0.7761541901246105, 1.0],\n",
       " [1.0, 0.010000000000000002],\n",
       " [1.0, 0.3297124041168855],\n",
       " [1.0, 0.8683782431903992],\n",
       " [1.0, 1.0]]"
      ]
     },
     "execution_count": 62,
     "metadata": {},
     "output_type": "execute_result"
    }
   ],
   "source": [
    "all_boundaries"
   ]
  },
  {
   "cell_type": "code",
   "execution_count": 252,
   "metadata": {},
   "outputs": [],
   "source": [
    "max_x = max([t[0] for t in hexmap.hexagons.nodes()])\n",
    "x_vals = list(range(0, max_x+1))\n",
    "x_groups = [x_vals[idx:idx+2] for idx in range(0, max_x+1)]"
   ]
  },
  {
   "cell_type": "code",
   "execution_count": 282,
   "metadata": {},
   "outputs": [],
   "source": [
    "max_y = max([t[1] for t in hexmap.hexagons.nodes()])\n",
    "y_vals = list(range(0, max_y+1))\n",
    "y_groups = [y_vals[idx:idx+3] for idx in range(0, max_y, 2)]"
   ]
  },
  {
   "cell_type": "code",
   "execution_count": 284,
   "metadata": {},
   "outputs": [
    {
     "data": {
      "text/plain": [
       "[[0, 1, 2], [2, 3, 4], [4, 5, 6], [6, 7, 8], [8, 9]]"
      ]
     },
     "execution_count": 284,
     "metadata": {},
     "output_type": "execute_result"
    }
   ],
   "source": [
    "y_groups"
   ]
  },
  {
   "cell_type": "code",
   "execution_count": 283,
   "metadata": {},
   "outputs": [
    {
     "name": "stdout",
     "output_type": "stream",
     "text": [
      "[(0, 0), (0, 1), (0, 2), (1, 0), (1, 1), (1, 2)]\n",
      "[(1, 0), (1, 1), (1, 2), (2, 0), (2, 1), (2, 2)]\n",
      "[(2, 0), (2, 1), (2, 2), (3, 0), (3, 1), (3, 2)]\n",
      "[(3, 0), (3, 1), (3, 2), (4, 0), (4, 1), (4, 2)]\n",
      "[(0, 2), (0, 3), (0, 4), (1, 2), (1, 3), (1, 4)]\n",
      "[(1, 2), (1, 3), (1, 4), (2, 2), (2, 3), (2, 4)]\n",
      "[(2, 2), (2, 3), (2, 4), (3, 2), (3, 3), (3, 4)]\n",
      "[(3, 2), (3, 3), (3, 4), (4, 2), (4, 3), (4, 4)]\n",
      "[(0, 4), (0, 5), (0, 6), (1, 4), (1, 5), (1, 6)]\n",
      "[(1, 4), (1, 5), (1, 6), (2, 4), (2, 5), (2, 6)]\n",
      "[(2, 4), (2, 5), (2, 6), (3, 4), (3, 5), (3, 6)]\n",
      "[(3, 4), (3, 5), (3, 6), (4, 4), (4, 5), (4, 6)]\n",
      "[(0, 6), (0, 7), (0, 8), (1, 6), (1, 7), (1, 8)]\n",
      "[(1, 6), (1, 7), (1, 8), (2, 6), (2, 7), (2, 8)]\n",
      "[(2, 6), (2, 7), (2, 8), (3, 6), (3, 7), (3, 8)]\n",
      "[(3, 6), (3, 7), (3, 8), (4, 6), (4, 7), (4, 8)]\n",
      "[(0, 8), (0, 9), (1, 8), (1, 9)]\n",
      "[(1, 8), (1, 9), (2, 8), (2, 9)]\n",
      "[(2, 8), (2, 9), (3, 8), (3, 9)]\n",
      "[(3, 8), (3, 9), (4, 8), (4, 9)]\n"
     ]
    },
    {
     "ename": "IndexError",
     "evalue": "list index out of range",
     "output_type": "error",
     "traceback": [
      "\u001b[0;31m---------------------------------------------------------------------------\u001b[0m",
      "\u001b[0;31mIndexError\u001b[0m                                Traceback (most recent call last)",
      "\u001b[0;32m<ipython-input-283-501a922fb9a5>\u001b[0m in \u001b[0;36m<module>\u001b[0;34m\u001b[0m\n\u001b[1;32m      3\u001b[0m \u001b[0mbunches\u001b[0m \u001b[0;34m=\u001b[0m \u001b[0mdefaultdict\u001b[0m\u001b[0;34m(\u001b[0m\u001b[0mlist\u001b[0m\u001b[0;34m)\u001b[0m\u001b[0;34m\u001b[0m\u001b[0m\n\u001b[1;32m      4\u001b[0m \u001b[0;32mfor\u001b[0m \u001b[0mx\u001b[0m\u001b[0;34m,\u001b[0m \u001b[0my\u001b[0m \u001b[0;32min\u001b[0m \u001b[0mhexmap\u001b[0m\u001b[0;34m.\u001b[0m\u001b[0mcenters\u001b[0m\u001b[0;34m.\u001b[0m\u001b[0mnodes\u001b[0m\u001b[0;34m(\u001b[0m\u001b[0;34m)\u001b[0m\u001b[0;34m:\u001b[0m\u001b[0;34m\u001b[0m\u001b[0m\n\u001b[0;32m----> 5\u001b[0;31m     \u001b[0mprint\u001b[0m\u001b[0;34m(\u001b[0m\u001b[0mlist\u001b[0m\u001b[0;34m(\u001b[0m\u001b[0mproduct\u001b[0m\u001b[0;34m(\u001b[0m\u001b[0mx_groups\u001b[0m\u001b[0;34m[\u001b[0m\u001b[0mx\u001b[0m\u001b[0;34m]\u001b[0m\u001b[0;34m,\u001b[0m \u001b[0my_groups\u001b[0m\u001b[0;34m[\u001b[0m\u001b[0my\u001b[0m\u001b[0;34m]\u001b[0m\u001b[0;34m)\u001b[0m\u001b[0;34m)\u001b[0m\u001b[0;34m)\u001b[0m\u001b[0;34m\u001b[0m\u001b[0m\n\u001b[0m",
      "\u001b[0;31mIndexError\u001b[0m: list index out of range"
     ]
    }
   ],
   "source": [
    "from itertools import product\n",
    "\n",
    "bunches = defaultdict(list)\n",
    "for x, y in hexmap.centers.nodes():\n",
    "    print(list(product(x_groups[x], y_groups[y])))"
   ]
  },
  {
   "cell_type": "code",
   "execution_count": null,
   "metadata": {},
   "outputs": [],
   "source": []
  },
  {
   "cell_type": "code",
   "execution_count": 281,
   "metadata": {},
   "outputs": [
    {
     "data": {
      "image/png": "[encoded data removed]",
      "text/plain": [
       "<Figure size 432x288 with 1 Axes>"
      ]
     },
     "metadata": {},
     "output_type": "display_data"
    }
   ],
   "source": [
    "import networkx as nx\n",
    "\n",
    "pos = nx.get_node_attributes(hexmap.hexagons, 'pos')\n",
    "\n",
    "# Pass the positions while drawing\n",
    "nx.draw(hexmap.hexagons, pos=pos, with_labels=True, font_weight='bold')"
   ]
  },
  {
   "cell_type": "code",
   "execution_count": 250,
   "metadata": {},
   "outputs": [
    {
     "data": {
      "text/plain": [
       "[[0, 1], [1, 2], [2, 3], [3, 4], [4, 5]]"
      ]
     },
     "execution_count": 250,
     "metadata": {},
     "output_type": "execute_result"
    }
   ],
   "source": [
    "x_groups"
   ]
  },
  {
   "cell_type": "code",
   "execution_count": null,
   "metadata": {},
   "outputs": [],
   "source": []
  }
 ],
 "metadata": {
  "kernelspec": {
   "display_name": "Python 3",
   "language": "python",
   "name": "python3"
  },
  "language_info": {
   "codemirror_mode": {
    "name": "ipython",
    "version": 3
   },
   "file_extension": ".py",
   "mimetype": "text/x-python",
   "name": "python",
   "nbconvert_exporter": "python",
   "pygments_lexer": "ipython3",
   "version": "3.6.6"
  }
 },
 "nbformat": 4,
 "nbformat_minor": 2
}
